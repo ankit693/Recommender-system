{
 "cells": [
  {
   "cell_type": "code",
   "execution_count": 56,
   "metadata": {},
   "outputs": [],
   "source": [
    "import mlflow\n",
    "import pandas as pd\n",
    "import mlflow.sklearn\n",
    "from sklearn.feature_extraction.text import CountVectorizer\n",
    "from sklearn.model_selection import train_test_split\n",
    "from sklearn.linear_model import LogisticRegression\n",
    "from sklearn.metrics import accuracy_score, precision_score, recall_score, f1_score\n",
    "import pandas as pd\n",
    "import re\n",
    "import string\n",
    "from nltk.corpus import stopwords\n",
    "from nltk.stem import WordNetLemmatizer\n",
    "import numpy as np"
   ]
  },
  {
   "cell_type": "code",
   "execution_count": 57,
   "metadata": {},
   "outputs": [
    {
     "data": {
      "text/html": [
       "<div>\n",
       "<style scoped>\n",
       "    .dataframe tbody tr th:only-of-type {\n",
       "        vertical-align: middle;\n",
       "    }\n",
       "\n",
       "    .dataframe tbody tr th {\n",
       "        vertical-align: top;\n",
       "    }\n",
       "\n",
       "    .dataframe thead th {\n",
       "        text-align: right;\n",
       "    }\n",
       "</style>\n",
       "<table border=\"1\" class=\"dataframe\">\n",
       "  <thead>\n",
       "    <tr style=\"text-align: right;\">\n",
       "      <th></th>\n",
       "      <th>review</th>\n",
       "      <th>sentiment</th>\n",
       "    </tr>\n",
       "  </thead>\n",
       "  <tbody>\n",
       "    <tr>\n",
       "      <th>0</th>\n",
       "      <td>Film version of Sandra Bernhard's one-woman of...</td>\n",
       "      <td>negative</td>\n",
       "    </tr>\n",
       "    <tr>\n",
       "      <th>1</th>\n",
       "      <td>I switched this on (from cable) on a whim and ...</td>\n",
       "      <td>positive</td>\n",
       "    </tr>\n",
       "    <tr>\n",
       "      <th>2</th>\n",
       "      <td>The `plot' of this film contains a few holes y...</td>\n",
       "      <td>negative</td>\n",
       "    </tr>\n",
       "    <tr>\n",
       "      <th>3</th>\n",
       "      <td>Some amusing humor, some that falls flat, some...</td>\n",
       "      <td>negative</td>\n",
       "    </tr>\n",
       "    <tr>\n",
       "      <th>4</th>\n",
       "      <td>What can you say about this movie? It was not ...</td>\n",
       "      <td>negative</td>\n",
       "    </tr>\n",
       "    <tr>\n",
       "      <th>...</th>\n",
       "      <td>...</td>\n",
       "      <td>...</td>\n",
       "    </tr>\n",
       "    <tr>\n",
       "      <th>995</th>\n",
       "      <td>Not exactly a new story line, but this romanti...</td>\n",
       "      <td>negative</td>\n",
       "    </tr>\n",
       "    <tr>\n",
       "      <th>996</th>\n",
       "      <td>I first saw this movie as a younger child. My ...</td>\n",
       "      <td>positive</td>\n",
       "    </tr>\n",
       "    <tr>\n",
       "      <th>997</th>\n",
       "      <td>Some people have stated that as of the 11th se...</td>\n",
       "      <td>positive</td>\n",
       "    </tr>\n",
       "    <tr>\n",
       "      <th>998</th>\n",
       "      <td>Nothing but the director's juvenile fantasy co...</td>\n",
       "      <td>negative</td>\n",
       "    </tr>\n",
       "    <tr>\n",
       "      <th>999</th>\n",
       "      <td>****SPOILER ALERT**** All throughout Australia...</td>\n",
       "      <td>positive</td>\n",
       "    </tr>\n",
       "  </tbody>\n",
       "</table>\n",
       "<p>1000 rows × 2 columns</p>\n",
       "</div>"
      ],
      "text/plain": [
       "                                                review sentiment\n",
       "0    Film version of Sandra Bernhard's one-woman of...  negative\n",
       "1    I switched this on (from cable) on a whim and ...  positive\n",
       "2    The `plot' of this film contains a few holes y...  negative\n",
       "3    Some amusing humor, some that falls flat, some...  negative\n",
       "4    What can you say about this movie? It was not ...  negative\n",
       "..                                                 ...       ...\n",
       "995  Not exactly a new story line, but this romanti...  negative\n",
       "996  I first saw this movie as a younger child. My ...  positive\n",
       "997  Some people have stated that as of the 11th se...  positive\n",
       "998  Nothing but the director's juvenile fantasy co...  negative\n",
       "999  ****SPOILER ALERT**** All throughout Australia...  positive\n",
       "\n",
       "[1000 rows x 2 columns]"
      ]
     },
     "execution_count": 57,
     "metadata": {},
     "output_type": "execute_result"
    }
   ],
   "source": [
    "df = pd.read_csv('IMDB.csv')\n",
    "# df = df.sample(500)\n",
    "# df.to_csv('data.csv', index=False)\n",
    "# df.head()\n",
    "df"
   ]
  },
  {
   "cell_type": "code",
   "execution_count": 58,
   "metadata": {},
   "outputs": [],
   "source": [
    "# data preprocessing\n",
    "\n",
    "# Define text preprocessing functions\n",
    "def lemmatization(text):\n",
    "    \"\"\"Lemmatize the text.\"\"\"\n",
    "    lemmatizer = WordNetLemmatizer()\n",
    "    text = text.split()\n",
    "    text = [lemmatizer.lemmatize(word) for word in text]\n",
    "    return \" \".join(text)\n",
    "\n",
    "def remove_stop_words(text):\n",
    "    \"\"\"Remove stop words from the text.\"\"\"\n",
    "    stop_words = set(stopwords.words(\"english\"))\n",
    "    text = [word for word in str(text).split() if word not in stop_words]\n",
    "    return \" \".join(text)\n",
    "\n",
    "def removing_numbers(text):\n",
    "    \"\"\"Remove numbers from the text.\"\"\"\n",
    "    text = ''.join([char for char in text if not char.isdigit()])\n",
    "    return text\n",
    "\n",
    "def lower_case(text):\n",
    "    \"\"\"Convert text to lower case.\"\"\"\n",
    "    text = text.split()\n",
    "    text = [word.lower() for word in text]\n",
    "    return \" \".join(text)\n",
    "\n",
    "def removing_punctuations(text):\n",
    "    \"\"\"Remove punctuations from the text.\"\"\"\n",
    "    text = re.sub('[%s]' % re.escape(string.punctuation), ' ', text)\n",
    "    text = text.replace('؛', \"\")\n",
    "    text = re.sub('\\s+', ' ', text).strip()\n",
    "    return text\n",
    "\n",
    "def removing_urls(text):\n",
    "    \"\"\"Remove URLs from the text.\"\"\"\n",
    "    url_pattern = re.compile(r'https?://\\S+|www\\.\\S+')\n",
    "    return url_pattern.sub(r'', text)\n",
    "\n",
    "def normalize_text(df):\n",
    "    \"\"\"Normalize the text data.\"\"\"\n",
    "    try:\n",
    "        df['review'] = df['review'].apply(lower_case)\n",
    "        df['review'] = df['review'].apply(remove_stop_words)\n",
    "        df['review'] = df['review'].apply(removing_numbers)\n",
    "        df['review'] = df['review'].apply(removing_punctuations)\n",
    "        df['review'] = df['review'].apply(removing_urls)\n",
    "        df['review'] = df['review'].apply(lemmatization)\n",
    "        return df\n",
    "    except Exception as e:\n",
    "        print(f'Error during text normalization: {e}')\n",
    "        raise"
   ]
  },
  {
   "cell_type": "code",
   "execution_count": 43,
   "metadata": {},
   "outputs": [
    {
     "name": "stderr",
     "output_type": "stream",
     "text": [
      "[nltk_data] Downloading package stopwords to\n",
      "[nltk_data]     C:\\Users\\ankit\\AppData\\Roaming\\nltk_data...\n",
      "[nltk_data]   Package stopwords is already up-to-date!\n",
      "[nltk_data] Downloading package wordnet to\n",
      "[nltk_data]     C:\\Users\\ankit\\AppData\\Roaming\\nltk_data...\n",
      "[nltk_data]   Package wordnet is already up-to-date!\n"
     ]
    },
    {
     "data": {
      "text/plain": [
       "True"
      ]
     },
     "execution_count": 43,
     "metadata": {},
     "output_type": "execute_result"
    }
   ],
   "source": [
    "import nltk\n",
    "nltk.download('stopwords')\n",
    "nltk.download('wordnet')\n"
   ]
  },
  {
   "cell_type": "code",
   "execution_count": 59,
   "metadata": {},
   "outputs": [
    {
     "data": {
      "text/html": [
       "<div>\n",
       "<style scoped>\n",
       "    .dataframe tbody tr th:only-of-type {\n",
       "        vertical-align: middle;\n",
       "    }\n",
       "\n",
       "    .dataframe tbody tr th {\n",
       "        vertical-align: top;\n",
       "    }\n",
       "\n",
       "    .dataframe thead th {\n",
       "        text-align: right;\n",
       "    }\n",
       "</style>\n",
       "<table border=\"1\" class=\"dataframe\">\n",
       "  <thead>\n",
       "    <tr style=\"text-align: right;\">\n",
       "      <th></th>\n",
       "      <th>review</th>\n",
       "      <th>sentiment</th>\n",
       "    </tr>\n",
       "  </thead>\n",
       "  <tbody>\n",
       "    <tr>\n",
       "      <th>0</th>\n",
       "      <td>film version sandra bernhard s one woman off b...</td>\n",
       "      <td>negative</td>\n",
       "    </tr>\n",
       "    <tr>\n",
       "      <th>1</th>\n",
       "      <td>switched from cable whim treated quite surpris...</td>\n",
       "      <td>positive</td>\n",
       "    </tr>\n",
       "    <tr>\n",
       "      <th>2</th>\n",
       "      <td>plot film contains hole could drive massive tr...</td>\n",
       "      <td>negative</td>\n",
       "    </tr>\n",
       "    <tr>\n",
       "      <th>3</th>\n",
       "      <td>amusing humor fall flat decent acting quite at...</td>\n",
       "      <td>negative</td>\n",
       "    </tr>\n",
       "    <tr>\n",
       "      <th>4</th>\n",
       "      <td>say movie terrible good two day earlier watche...</td>\n",
       "      <td>negative</td>\n",
       "    </tr>\n",
       "  </tbody>\n",
       "</table>\n",
       "</div>"
      ],
      "text/plain": [
       "                                              review sentiment\n",
       "0  film version sandra bernhard s one woman off b...  negative\n",
       "1  switched from cable whim treated quite surpris...  positive\n",
       "2  plot film contains hole could drive massive tr...  negative\n",
       "3  amusing humor fall flat decent acting quite at...  negative\n",
       "4  say movie terrible good two day earlier watche...  negative"
      ]
     },
     "execution_count": 59,
     "metadata": {},
     "output_type": "execute_result"
    }
   ],
   "source": [
    "df = normalize_text(df)\n",
    "df.head()"
   ]
  },
  {
   "cell_type": "code",
   "execution_count": 60,
   "metadata": {},
   "outputs": [
    {
     "data": {
      "text/plain": [
       "sentiment\n",
       "negative    517\n",
       "positive    483\n",
       "Name: count, dtype: int64"
      ]
     },
     "execution_count": 60,
     "metadata": {},
     "output_type": "execute_result"
    }
   ],
   "source": [
    "df['sentiment'].value_counts()"
   ]
  },
  {
   "cell_type": "code",
   "execution_count": 61,
   "metadata": {},
   "outputs": [
    {
     "data": {
      "text/plain": [
       "(1000, 2)"
      ]
     },
     "execution_count": 61,
     "metadata": {},
     "output_type": "execute_result"
    }
   ],
   "source": [
    "df.shape"
   ]
  },
  {
   "cell_type": "code",
   "execution_count": 62,
   "metadata": {},
   "outputs": [],
   "source": [
    "x = df['sentiment'].isin(['positive','negative'])\n",
    "df = df[x]"
   ]
  },
  {
   "cell_type": "code",
   "execution_count": 63,
   "metadata": {},
   "outputs": [
    {
     "data": {
      "text/html": [
       "<div>\n",
       "<style scoped>\n",
       "    .dataframe tbody tr th:only-of-type {\n",
       "        vertical-align: middle;\n",
       "    }\n",
       "\n",
       "    .dataframe tbody tr th {\n",
       "        vertical-align: top;\n",
       "    }\n",
       "\n",
       "    .dataframe thead th {\n",
       "        text-align: right;\n",
       "    }\n",
       "</style>\n",
       "<table border=\"1\" class=\"dataframe\">\n",
       "  <thead>\n",
       "    <tr style=\"text-align: right;\">\n",
       "      <th></th>\n",
       "      <th>review</th>\n",
       "      <th>sentiment</th>\n",
       "    </tr>\n",
       "  </thead>\n",
       "  <tbody>\n",
       "    <tr>\n",
       "      <th>0</th>\n",
       "      <td>film version sandra bernhard s one woman off b...</td>\n",
       "      <td>0</td>\n",
       "    </tr>\n",
       "    <tr>\n",
       "      <th>1</th>\n",
       "      <td>switched from cable whim treated quite surpris...</td>\n",
       "      <td>1</td>\n",
       "    </tr>\n",
       "    <tr>\n",
       "      <th>2</th>\n",
       "      <td>plot film contains hole could drive massive tr...</td>\n",
       "      <td>0</td>\n",
       "    </tr>\n",
       "    <tr>\n",
       "      <th>3</th>\n",
       "      <td>amusing humor fall flat decent acting quite at...</td>\n",
       "      <td>0</td>\n",
       "    </tr>\n",
       "    <tr>\n",
       "      <th>4</th>\n",
       "      <td>say movie terrible good two day earlier watche...</td>\n",
       "      <td>0</td>\n",
       "    </tr>\n",
       "  </tbody>\n",
       "</table>\n",
       "</div>"
      ],
      "text/plain": [
       "                                              review  sentiment\n",
       "0  film version sandra bernhard s one woman off b...          0\n",
       "1  switched from cable whim treated quite surpris...          1\n",
       "2  plot film contains hole could drive massive tr...          0\n",
       "3  amusing humor fall flat decent acting quite at...          0\n",
       "4  say movie terrible good two day earlier watche...          0"
      ]
     },
     "execution_count": 63,
     "metadata": {},
     "output_type": "execute_result"
    }
   ],
   "source": [
    "df['sentiment'] = df['sentiment'].map({'positive':1, 'negative':0})\n",
    "df.head()"
   ]
  },
  {
   "cell_type": "code",
   "execution_count": 64,
   "metadata": {},
   "outputs": [
    {
     "data": {
      "text/plain": [
       "review       0\n",
       "sentiment    0\n",
       "dtype: int64"
      ]
     },
     "execution_count": 64,
     "metadata": {},
     "output_type": "execute_result"
    }
   ],
   "source": [
    "df.isnull().sum()"
   ]
  },
  {
   "cell_type": "code",
   "execution_count": 65,
   "metadata": {},
   "outputs": [],
   "source": [
    "vectorizer = CountVectorizer(max_features=100)\n",
    "X = vectorizer.fit_transform(df['review'])\n",
    "y = df['sentiment']"
   ]
  },
  {
   "cell_type": "code",
   "execution_count": 66,
   "metadata": {},
   "outputs": [],
   "source": [
    "X_train, X_test, y_train, y_test = train_test_split(X, y, test_size=0.3, random_state=42)"
   ]
  },
  {
   "cell_type": "code",
   "execution_count": 52,
   "metadata": {},
   "outputs": [
    {
     "name": "stderr",
     "output_type": "stream",
     "text": [
      "2025-10-23 22:04:45,655 - INFO - HTTP Request: GET https://dagshub.com/api/v1/repos/ankit693/Recommender-system \"HTTP/1.1 200 OK\"\n"
     ]
    },
    {
     "data": {
      "text/html": [
       "<pre style=\"white-space:pre;overflow-x:auto;line-height:normal;font-family:Menlo,'DejaVu Sans Mono',consolas,'Courier New',monospace\">Initialized MLflow to track repo <span style=\"color: #008000; text-decoration-color: #008000\">\"ankit693/Recommender-system\"</span>\n",
       "</pre>\n"
      ],
      "text/plain": [
       "Initialized MLflow to track repo \u001b[32m\"ankit693/Recommender-system\"\u001b[0m\n"
      ]
     },
     "metadata": {},
     "output_type": "display_data"
    },
    {
     "name": "stderr",
     "output_type": "stream",
     "text": [
      "2025-10-23 22:04:45,673 - INFO - Initialized MLflow to track repo \"ankit693/Recommender-system\"\n"
     ]
    },
    {
     "data": {
      "text/html": [
       "<pre style=\"white-space:pre;overflow-x:auto;line-height:normal;font-family:Menlo,'DejaVu Sans Mono',consolas,'Courier New',monospace\">Repository ankit693/Recommender-system initialized!\n",
       "</pre>\n"
      ],
      "text/plain": [
       "Repository ankit693/Recommender-system initialized!\n"
      ]
     },
     "metadata": {},
     "output_type": "display_data"
    },
    {
     "name": "stderr",
     "output_type": "stream",
     "text": [
      "2025-10-23 22:04:45,679 - INFO - Repository ankit693/Recommender-system initialized!\n"
     ]
    },
    {
     "data": {
      "text/plain": [
       "<Experiment: artifact_location='mlflow-artifacts:/495b19f2964a45088f39026a9170c71e', creation_time=1761236748084, experiment_id='0', last_update_time=1761236748084, lifecycle_stage='active', name='Logistic Regression Baseline', tags={}>"
      ]
     },
     "execution_count": 52,
     "metadata": {},
     "output_type": "execute_result"
    }
   ],
   "source": [
    "import dagshub\n",
    "\n",
    "mlflow.set_tracking_uri('https://dagshub.com/ankit693/Recommender-system.mlflow')\n",
    "dagshub.init(repo_owner='ankit693', repo_name='Recommender-system', mlflow=True)\n",
    "\n",
    "# mlflow.set_experiment(\"Logistic Regression Baseline\")\n",
    "mlflow.set_experiment(\"Logistic Regression Baseline\")\n"
   ]
  },
  {
   "cell_type": "code",
   "execution_count": null,
   "metadata": {},
   "outputs": [
    {
     "name": "stderr",
     "output_type": "stream",
     "text": [
      "2025-10-23 22:15:54,499 - INFO - 🚀 Starting MLflow run...\n",
      "2025-10-23 22:15:56,504 - INFO - Logging preprocessing parameters...\n",
      "2025-10-23 22:15:57,555 - INFO - Initializing Logistic Regression model...\n",
      "2025-10-23 22:15:57,555 - INFO - Fitting the model...\n",
      "2025-10-23 22:15:57,620 - INFO - ✅ Model training complete.\n",
      "2025-10-23 22:15:57,950 - INFO - Making predictions and calculating metrics...\n",
      "2025-10-23 22:15:58,324 - INFO - Saving and logging the model...\n",
      "2025-10-23 22:15:58,988 - WARNING - ⚠️ MLflow model logging failed (INTERNAL_ERROR: Response: {'error': 'unsupported endpoint, please contact support@dagshub.com'}). Logging as artifact instead.\n",
      "2025-10-23 22:16:00,288 - INFO - ✅ Model logged as artifact instead.\n",
      "2025-10-23 22:16:00,620 - INFO - ⏱️ Training and logging completed in 3.80 seconds.\n",
      "2025-10-23 22:16:00,629 - INFO - 📊 Accuracy:  0.6900\n",
      "2025-10-23 22:16:00,631 - INFO - 📊 Precision: 0.7206\n",
      "2025-10-23 22:16:00,632 - INFO - 📊 Recall:    0.6405\n",
      "2025-10-23 22:16:00,636 - INFO - 📊 F1 Score:  0.6782\n"
     ]
    },
    {
     "name": "stdout",
     "output_type": "stream",
     "text": [
      "🏃 View run intrigued-bird-621 at: https://dagshub.com/ankit693/Recommender-system.mlflow/#/experiments/1/runs/d31d9242cbbe49e0a0ed57433740c9ce\n",
      "🧪 View experiment at: https://dagshub.com/ankit693/Recommender-system.mlflow/#/experiments/1\n"
     ]
    }
   ],
   "source": [
    "import mlflow\n",
    "import logging\n",
    "import os\n",
    "import time\n",
    "import joblib\n",
    "from sklearn.linear_model import LogisticRegression\n",
    "from sklearn.metrics import accuracy_score, precision_score, recall_score, f1_score\n",
    "\n",
    "# --------------------------------------------------------------------\n",
    "# CONFIGURE LOGGING\n",
    "# --------------------------------------------------------------------\n",
    "logging.basicConfig(\n",
    "    level=logging.INFO,\n",
    "    format=\"%(asctime)s - %(levelname)s - %(message)s\"\n",
    ")\n",
    "\n",
    "logging.info(\"🚀 Starting MLflow run...\")\n",
    "\n",
    "# --------------------------------------------------------------------\n",
    "# SETUP: If you're using DagsHub or a local MLflow instance\n",
    "# --------------------------------------------------------------------\n",
    "# Uncomment and edit this if needed (optional)\n",
    "mlflow.set_tracking_uri(\"https://dagshub.com/ankit693/Recommender-system.mlflow\")\n",
    "\n",
    "# You can also name your experiment\n",
    "mlflow.set_experiment(\"Baseline_Logistic_Regression\")\n",
    "\n",
    "# --------------------------------------------------------------------\n",
    "# TRAINING AND LOGGING PIPELINE\n",
    "# --------------------------------------------------------------------\n",
    "with mlflow.start_run():\n",
    "    start_time = time.time()\n",
    "\n",
    "    try:\n",
    "        # --------------------------------------------------------------\n",
    "        # Example data placeholders (REPLACE with your real data)\n",
    "        # --------------------------------------------------------------\n",
    "        # X_train, X_test, y_train, y_test = <your_preprocessed_data>\n",
    "\n",
    "        # --------------------------------------------------------------\n",
    "        # Log preprocessing parameters\n",
    "        # --------------------------------------------------------------\n",
    "        logging.info(\"Logging preprocessing parameters...\")\n",
    "        mlflow.log_param(\"vectorizer\", \"Bag of Words\")\n",
    "        mlflow.log_param(\"num_features\", 120)\n",
    "        mlflow.log_param(\"test_size\", 0.3)\n",
    "\n",
    "        # --------------------------------------------------------------\n",
    "        # Initialize and train the model\n",
    "        # --------------------------------------------------------------\n",
    "        logging.info(\"Initializing Logistic Regression model...\")\n",
    "        model = LogisticRegression(max_iter=1000)\n",
    "\n",
    "        logging.info(\"Fitting the model...\")\n",
    "        model.fit(X_train, y_train)\n",
    "        logging.info(\"✅ Model training complete.\")\n",
    "\n",
    "        # --------------------------------------------------------------\n",
    "        # Log model parameters\n",
    "        # --------------------------------------------------------------\n",
    "        mlflow.log_param(\"model_type\", \"Logistic Regression\")\n",
    "\n",
    "        # --------------------------------------------------------------\n",
    "        # Predictions and Evaluation\n",
    "        # --------------------------------------------------------------\n",
    "        logging.info(\"Making predictions and calculating metrics...\")\n",
    "        y_pred = model.predict(X_test)\n",
    "\n",
    "        accuracy = accuracy_score(y_test, y_pred)\n",
    "        precision = precision_score(y_test, y_pred)\n",
    "        recall = recall_score(y_test, y_pred)\n",
    "        f1 = f1_score(y_test, y_pred)\n",
    "\n",
    "        # --------------------------------------------------------------\n",
    "        # Log metrics\n",
    "        # --------------------------------------------------------------\n",
    "        mlflow.log_metrics({\n",
    "            \"accuracy\": accuracy,\n",
    "            \"precision\": precision,\n",
    "            \"recall\": recall,\n",
    "            \"f1_score\": f1\n",
    "        })\n",
    "\n",
    "        # --------------------------------------------------------------\n",
    "        # Try to log the model (supports both local MLflow and DagsHub)\n",
    "        # --------------------------------------------------------------\n",
    "        logging.info(\"Saving and logging the model...\")\n",
    "        try:\n",
    "            mlflow.sklearn.log_model(model, name=\"model\")  # ✅ new syntax (no deprecation warning)\n",
    "            logging.info(\"✅ Model successfully logged with MLflow.\")\n",
    "        except Exception as log_err:\n",
    "            logging.warning(f\"⚠️ MLflow model logging failed ({log_err}). Logging as artifact instead.\")\n",
    "            model_path = \"model.pkl\"\n",
    "            joblib.dump(model, model_path)\n",
    "            mlflow.log_artifact(model_path)\n",
    "            logging.info(\"✅ Model logged as artifact instead.\")\n",
    "\n",
    "        # --------------------------------------------------------------\n",
    "        # Log execution time\n",
    "        # --------------------------------------------------------------\n",
    "        end_time = time.time()\n",
    "        elapsed = end_time - start_time\n",
    "        mlflow.log_metric(\"execution_time_sec\", elapsed)\n",
    "        logging.info(f\"⏱️ Training and logging completed in {elapsed:.2f} seconds.\")\n",
    "\n",
    "        # --------------------------------------------------------------\n",
    "        # Print summary results\n",
    "        # --------------------------------------------------------------\n",
    "        logging.info(f\"📊 Accuracy:  {accuracy:.4f}\")\n",
    "        logging.info(f\"📊 Precision: {precision:.4f}\")\n",
    "        logging.info(f\"📊 Recall:    {recall:.4f}\")\n",
    "        logging.info(f\"📊 F1 Score:  {f1:.4f}\")\n",
    "\n",
    "    except Exception as e:\n",
    "        logging.error(f\"❌ An error occurred: {e}\", exc_info=True)\n"
   ]
  },
  {
   "cell_type": "code",
   "execution_count": null,
   "metadata": {},
   "outputs": [],
   "source": []
  }
 ],
 "metadata": {
  "kernelspec": {
   "display_name": "atlas",
   "language": "python",
   "name": "python3"
  },
  "language_info": {
   "codemirror_mode": {
    "name": "ipython",
    "version": 3
   },
   "file_extension": ".py",
   "mimetype": "text/x-python",
   "name": "python",
   "nbconvert_exporter": "python",
   "pygments_lexer": "ipython3",
   "version": "3.10.19"
  }
 },
 "nbformat": 4,
 "nbformat_minor": 2
}
